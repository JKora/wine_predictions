{
 "cells": [
  {
   "cell_type": "code",
   "execution_count": 1,
   "metadata": {},
   "outputs": [],
   "source": [
    "import pandas as pd"
   ]
  },
  {
   "cell_type": "code",
   "execution_count": 2,
   "metadata": {},
   "outputs": [
    {
     "data": {
      "text/html": [
       "<div>\n",
       "<style scoped>\n",
       "    .dataframe tbody tr th:only-of-type {\n",
       "        vertical-align: middle;\n",
       "    }\n",
       "\n",
       "    .dataframe tbody tr th {\n",
       "        vertical-align: top;\n",
       "    }\n",
       "\n",
       "    .dataframe thead th {\n",
       "        text-align: right;\n",
       "    }\n",
       "</style>\n",
       "<table border=\"1\" class=\"dataframe\">\n",
       "  <thead>\n",
       "    <tr style=\"text-align: right;\">\n",
       "      <th></th>\n",
       "      <th>Unnamed: 0</th>\n",
       "      <th>Unnamed: 0.1</th>\n",
       "      <th>description</th>\n",
       "      <th>winery</th>\n",
       "      <th>filtered</th>\n",
       "      <th>tokenized_sent</th>\n",
       "    </tr>\n",
       "  </thead>\n",
       "  <tbody>\n",
       "    <tr>\n",
       "      <th>0</th>\n",
       "      <td>0</td>\n",
       "      <td>0</td>\n",
       "      <td>['rich', 'gold', 'in', 'color.', 'broad,', 'la...</td>\n",
       "      <td>Domaine Zind-Humbrecht</td>\n",
       "      <td>rich gold color. broad, layered aromas ripe fr...</td>\n",
       "      <td>['rich', 'gold', 'color', 'broad', 'layered', ...</td>\n",
       "    </tr>\n",
       "    <tr>\n",
       "      <th>1</th>\n",
       "      <td>1</td>\n",
       "      <td>1</td>\n",
       "      <td>['flinty', 'reduction', 'still', 'dominates', ...</td>\n",
       "      <td>Domaine Zind-Humbrecht</td>\n",
       "      <td>flinty reduction still dominates nose sign you...</td>\n",
       "      <td>['flinty', 'reduction', 'still', 'dominates', ...</td>\n",
       "    </tr>\n",
       "    <tr>\n",
       "      <th>2</th>\n",
       "      <td>2</td>\n",
       "      <td>2</td>\n",
       "      <td>['flinty', 'overtones', 'of', 'yeast', 'reveal...</td>\n",
       "      <td>Domaine Zind-Humbrecht</td>\n",
       "      <td>flinty overtones yeast reveal young wine is. v...</td>\n",
       "      <td>['flinty', 'overtones', 'yeast', 'reveal', 'yo...</td>\n",
       "    </tr>\n",
       "    <tr>\n",
       "      <th>3</th>\n",
       "      <td>3</td>\n",
       "      <td>3</td>\n",
       "      <td>['beautifully', 'balanced,', 'this', 'conveys'...</td>\n",
       "      <td>Domaine Zind-Humbrecht</td>\n",
       "      <td>beautifully balanced, conveys rich fruit tense...</td>\n",
       "      <td>['beautifully', 'balanced', 'conveys', 'rich',...</td>\n",
       "    </tr>\n",
       "    <tr>\n",
       "      <th>4</th>\n",
       "      <td>4</td>\n",
       "      <td>4</td>\n",
       "      <td>['profound', 'enough', 'for', 'serious', 'cont...</td>\n",
       "      <td>Domaine Zind-Humbrecht</td>\n",
       "      <td>profound enough serious contemplation enough b...</td>\n",
       "      <td>['profound', 'enough', 'serious', 'contemplati...</td>\n",
       "    </tr>\n",
       "  </tbody>\n",
       "</table>\n",
       "</div>"
      ],
      "text/plain": [
       "   Unnamed: 0  Unnamed: 0.1  \\\n",
       "0           0             0   \n",
       "1           1             1   \n",
       "2           2             2   \n",
       "3           3             3   \n",
       "4           4             4   \n",
       "\n",
       "                                         description                  winery  \\\n",
       "0  ['rich', 'gold', 'in', 'color.', 'broad,', 'la...  Domaine Zind-Humbrecht   \n",
       "1  ['flinty', 'reduction', 'still', 'dominates', ...  Domaine Zind-Humbrecht   \n",
       "2  ['flinty', 'overtones', 'of', 'yeast', 'reveal...  Domaine Zind-Humbrecht   \n",
       "3  ['beautifully', 'balanced,', 'this', 'conveys'...  Domaine Zind-Humbrecht   \n",
       "4  ['profound', 'enough', 'for', 'serious', 'cont...  Domaine Zind-Humbrecht   \n",
       "\n",
       "                                            filtered  \\\n",
       "0  rich gold color. broad, layered aromas ripe fr...   \n",
       "1  flinty reduction still dominates nose sign you...   \n",
       "2  flinty overtones yeast reveal young wine is. v...   \n",
       "3  beautifully balanced, conveys rich fruit tense...   \n",
       "4  profound enough serious contemplation enough b...   \n",
       "\n",
       "                                      tokenized_sent  \n",
       "0  ['rich', 'gold', 'color', 'broad', 'layered', ...  \n",
       "1  ['flinty', 'reduction', 'still', 'dominates', ...  \n",
       "2  ['flinty', 'overtones', 'yeast', 'reveal', 'yo...  \n",
       "3  ['beautifully', 'balanced', 'conveys', 'rich',...  \n",
       "4  ['profound', 'enough', 'serious', 'contemplati...  "
      ]
     },
     "execution_count": 2,
     "metadata": {},
     "output_type": "execute_result"
    }
   ],
   "source": [
    "df_winery = pd.read_csv('tokenized_wine_data_winery.csv')\n",
    "\n",
    "df_winery.head()"
   ]
  },
  {
   "cell_type": "code",
   "execution_count": 3,
   "metadata": {},
   "outputs": [
    {
     "data": {
      "text/plain": [
       "<4435x7245 sparse matrix of type '<class 'numpy.float64'>'\n",
       "\twith 112188 stored elements in Compressed Sparse Row format>"
      ]
     },
     "execution_count": 3,
     "metadata": {},
     "output_type": "execute_result"
    }
   ],
   "source": [
    "from sklearn.feature_extraction.text import CountVectorizer\n",
    "from sklearn.feature_extraction.text import TfidfTransformer\n",
    "count_vect = CountVectorizer()\n",
    "tfidf = TfidfTransformer()\n",
    "cv = CountVectorizer().fit_transform(df_winery.tokenized_sent)\n",
    "bagofwords = tfidf.fit_transform(cv)\n",
    "bagofwords"
   ]
  },
  {
   "cell_type": "code",
   "execution_count": 5,
   "metadata": {},
   "outputs": [
    {
     "data": {
      "text/plain": [
       "array(['Domaine Zind-Humbrecht', 'Domaine Zind-Humbrecht',\n",
       "       'Domaine Zind-Humbrecht', ..., 'Albert Bichot', 'Albert Bichot',\n",
       "       'Albert Bichot'], dtype=object)"
      ]
     },
     "execution_count": 5,
     "metadata": {},
     "output_type": "execute_result"
    }
   ],
   "source": [
    "data = df_winery.values\n",
    "y = data[:,3]\n",
    "y"
   ]
  },
  {
   "cell_type": "code",
   "execution_count": 6,
   "metadata": {},
   "outputs": [],
   "source": [
    "from sklearn.decomposition import TruncatedSVD\n",
    "from sklearn.pipeline import make_pipeline\n",
    "from sklearn.preprocessing import Normalizer"
   ]
  },
  {
   "cell_type": "code",
   "execution_count": 7,
   "metadata": {},
   "outputs": [],
   "source": [
    "svd = TruncatedSVD(200)\n",
    "normalizer = Normalizer(copy=False)\n",
    "lsa = make_pipeline(svd, normalizer)\n",
    "X = lsa.fit_transform(bagofwords)"
   ]
  },
  {
   "cell_type": "code",
   "execution_count": 8,
   "metadata": {},
   "outputs": [],
   "source": [
    "from sklearn.model_selection import train_test_split\n",
    "X_train, X_test, y_train, y_test = train_test_split(X, y, test_size=0.2)"
   ]
  },
  {
   "cell_type": "code",
   "execution_count": 9,
   "metadata": {},
   "outputs": [],
   "source": [
    "from sklearn.ensemble import RandomForestClassifier\n",
    "from sklearn.ensemble import GradientBoostingClassifier\n",
    "from sklearn.metrics import accuracy_score"
   ]
  },
  {
   "cell_type": "code",
   "execution_count": 10,
   "metadata": {},
   "outputs": [
    {
     "name": "stdout",
     "output_type": "stream",
     "text": [
      "train....... (num trees = 200 in Random-Forest)\n",
      "done.\n",
      "train....... (num trees = 500 in Random-Forest)\n",
      "done.\n",
      "train....... (num trees = 50 in Gradient-Boosting)\n",
      "done.\n",
      "train....... (num trees = 100 in Gradient-Boosting)\n",
      "done.\n"
     ]
    }
   ],
   "source": [
    "results = {}\n",
    "for clf_type in [\"Random-Forest\", \"Gradient-Boosting\"]:\n",
    "\n",
    "    acc_results = []  # accuracy\n",
    "    if clf_type is \"Random-Forest\":\n",
    "        n_estimators = [200, 500]\n",
    "    elif clf_type is \"Gradient-Boosting\":                                      \n",
    "        n_estimators = [50, 100]\n",
    "    \n",
    "    for n_estimator in n_estimators:\n",
    "        print(\"train....... (num trees = {:d} in {:s})\".format(n_estimator, clf_type))\n",
    "        if clf_type is \"Random-Forest\":\n",
    "            clf = RandomForestClassifier(n_estimators=n_estimator)\n",
    "        elif clf_type is \"Gradient-Boosting\":\n",
    "            clf = GradientBoostingClassifier(n_estimators=n_estimator, max_depth=2)\n",
    "\n",
    "        clf.fit(X_train, y_train)\n",
    "        y_pred = clf.predict(X_test)\n",
    "        acc_results.append(100 * accuracy_score(y_test, y_pred))\n",
    "        print(\"done.\")\n",
    "    results[clf_type] = (n_estimators, acc_results)"
   ]
  },
  {
   "cell_type": "code",
   "execution_count": 13,
   "metadata": {},
   "outputs": [
    {
     "data": {
      "image/png": "[encoded data removed]",
      "text/plain": [
       "<Figure size 432x288 with 1 Axes>"
      ]
     },
     "metadata": {},
     "output_type": "display_data"
    }
   ],
   "source": [
    "import matplotlib.pyplot as plt\n",
    "for clf_type in [\"Random-Forest\", \"Gradient-Boosting\"]:\n",
    "    plt.plot(results[clf_type][0], results[clf_type][1])\n",
    "    plt.xlabel(\"number of trees\")\n",
    "    plt.ylabel(\"model accuracy\")\n",
    "plt.show()"
   ]
  },
  {
   "cell_type": "code",
   "execution_count": null,
   "metadata": {},
   "outputs": [],
   "source": []
  }
 ],
 "metadata": {
  "kernelspec": {
   "display_name": "Python 3",
   "language": "python",
   "name": "python3"
  },
  "language_info": {
   "codemirror_mode": {
    "name": "ipython",
    "version": 3
   },
   "file_extension": ".py",
   "mimetype": "text/x-python",
   "name": "python",
   "nbconvert_exporter": "python",
   "pygments_lexer": "ipython3",
   "version": "3.6.5"
  }
 },
 "nbformat": 4,
 "nbformat_minor": 2
}
