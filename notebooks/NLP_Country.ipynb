{
 "cells": [
  {
   "cell_type": "code",
   "execution_count": 1,
   "metadata": {},
   "outputs": [],
   "source": [
    "import pandas as pd"
   ]
  },
  {
   "cell_type": "code",
   "execution_count": 2,
   "metadata": {},
   "outputs": [
    {
     "data": {
      "text/html": [
       "<div>\n",
       "<style scoped>\n",
       "    .dataframe tbody tr th:only-of-type {\n",
       "        vertical-align: middle;\n",
       "    }\n",
       "\n",
       "    .dataframe tbody tr th {\n",
       "        vertical-align: top;\n",
       "    }\n",
       "\n",
       "    .dataframe thead th {\n",
       "        text-align: right;\n",
       "    }\n",
       "</style>\n",
       "<table border=\"1\" class=\"dataframe\">\n",
       "  <thead>\n",
       "    <tr style=\"text-align: right;\">\n",
       "      <th></th>\n",
       "      <th>Unnamed: 0</th>\n",
       "      <th>Unnamed: 0.1</th>\n",
       "      <th>description</th>\n",
       "      <th>country</th>\n",
       "      <th>filtered</th>\n",
       "      <th>tokenized_sent</th>\n",
       "    </tr>\n",
       "  </thead>\n",
       "  <tbody>\n",
       "    <tr>\n",
       "      <th>0</th>\n",
       "      <td>0</td>\n",
       "      <td>0</td>\n",
       "      <td>['aromas', 'include', 'tropical', 'fruit,', 'b...</td>\n",
       "      <td>Italy</td>\n",
       "      <td>aromas include tropical fruit, broom, brimston...</td>\n",
       "      <td>['aromas', 'include', 'tropical', 'fruit', 'br...</td>\n",
       "    </tr>\n",
       "    <tr>\n",
       "      <th>1</th>\n",
       "      <td>1</td>\n",
       "      <td>1</td>\n",
       "      <td>[\"here's\", 'a', 'bright,', 'informal', 'red', ...</td>\n",
       "      <td>Italy</td>\n",
       "      <td>here's bright, informal red opens aromas candi...</td>\n",
       "      <td>['here', 's', 'bright', 'informal', 'red', 'op...</td>\n",
       "    </tr>\n",
       "    <tr>\n",
       "      <th>2</th>\n",
       "      <td>2</td>\n",
       "      <td>2</td>\n",
       "      <td>['this', 'is', 'dominated', 'by', 'oak', 'and'...</td>\n",
       "      <td>Italy</td>\n",
       "      <td>dominated oak oak-driven aromas include roaste...</td>\n",
       "      <td>['dominated', 'oak', 'oak', 'driven', 'aromas'...</td>\n",
       "    </tr>\n",
       "    <tr>\n",
       "      <th>3</th>\n",
       "      <td>3</td>\n",
       "      <td>3</td>\n",
       "      <td>['delicate', 'aromas', 'recall', 'white', 'flo...</td>\n",
       "      <td>Italy</td>\n",
       "      <td>delicate aromas recall white flower citrus. pa...</td>\n",
       "      <td>['delicate', 'aromas', 'recall', 'white', 'flo...</td>\n",
       "    </tr>\n",
       "    <tr>\n",
       "      <th>4</th>\n",
       "      <td>4</td>\n",
       "      <td>4</td>\n",
       "      <td>['aromas', 'of', 'prune,', 'blackcurrant,', 't...</td>\n",
       "      <td>Italy</td>\n",
       "      <td>aromas prune, blackcurrant, toast oak carry ex...</td>\n",
       "      <td>['aromas', 'prune', 'blackcurrant', 'toast', '...</td>\n",
       "    </tr>\n",
       "  </tbody>\n",
       "</table>\n",
       "</div>"
      ],
      "text/plain": [
       "   Unnamed: 0  Unnamed: 0.1  \\\n",
       "0           0             0   \n",
       "1           1             1   \n",
       "2           2             2   \n",
       "3           3             3   \n",
       "4           4             4   \n",
       "\n",
       "                                         description country  \\\n",
       "0  ['aromas', 'include', 'tropical', 'fruit,', 'b...   Italy   \n",
       "1  [\"here's\", 'a', 'bright,', 'informal', 'red', ...   Italy   \n",
       "2  ['this', 'is', 'dominated', 'by', 'oak', 'and'...   Italy   \n",
       "3  ['delicate', 'aromas', 'recall', 'white', 'flo...   Italy   \n",
       "4  ['aromas', 'of', 'prune,', 'blackcurrant,', 't...   Italy   \n",
       "\n",
       "                                            filtered  \\\n",
       "0  aromas include tropical fruit, broom, brimston...   \n",
       "1  here's bright, informal red opens aromas candi...   \n",
       "2  dominated oak oak-driven aromas include roaste...   \n",
       "3  delicate aromas recall white flower citrus. pa...   \n",
       "4  aromas prune, blackcurrant, toast oak carry ex...   \n",
       "\n",
       "                                      tokenized_sent  \n",
       "0  ['aromas', 'include', 'tropical', 'fruit', 'br...  \n",
       "1  ['here', 's', 'bright', 'informal', 'red', 'op...  \n",
       "2  ['dominated', 'oak', 'oak', 'driven', 'aromas'...  \n",
       "3  ['delicate', 'aromas', 'recall', 'white', 'flo...  \n",
       "4  ['aromas', 'prune', 'blackcurrant', 'toast', '...  "
      ]
     },
     "execution_count": 2,
     "metadata": {},
     "output_type": "execute_result"
    }
   ],
   "source": [
    "df_country = pd.read_csv('tokenized_wine_data_country.csv')\n",
    "\n",
    "df_country.head()"
   ]
  },
  {
   "cell_type": "code",
   "execution_count": 3,
   "metadata": {},
   "outputs": [
    {
     "data": {
      "text/plain": [
       "<127404x30868 sparse matrix of type '<class 'numpy.float64'>'\n",
       "\twith 3192615 stored elements in Compressed Sparse Row format>"
      ]
     },
     "execution_count": 3,
     "metadata": {},
     "output_type": "execute_result"
    }
   ],
   "source": [
    "from sklearn.feature_extraction.text import CountVectorizer\n",
    "from sklearn.feature_extraction.text import TfidfTransformer\n",
    "count_vect = CountVectorizer()\n",
    "tfidf = TfidfTransformer()\n",
    "cv = CountVectorizer().fit_transform(df_country.tokenized_sent)\n",
    "bagofwords = tfidf.fit_transform(cv)\n",
    "bagofwords"
   ]
  },
  {
   "cell_type": "code",
   "execution_count": 4,
   "metadata": {},
   "outputs": [
    {
     "data": {
      "text/plain": [
       "array(['Italy', 'Italy', 'Italy', ..., 'New Zealand', 'New Zealand',\n",
       "       'New Zealand'], dtype=object)"
      ]
     },
     "execution_count": 4,
     "metadata": {},
     "output_type": "execute_result"
    }
   ],
   "source": [
    "data = df_country.values\n",
    "y = data[:,3]\n",
    "y"
   ]
  },
  {
   "cell_type": "code",
   "execution_count": 5,
   "metadata": {},
   "outputs": [],
   "source": [
    "from sklearn.decomposition import TruncatedSVD\n",
    "from sklearn.pipeline import make_pipeline\n",
    "from sklearn.preprocessing import Normalizer"
   ]
  },
  {
   "cell_type": "code",
   "execution_count": 6,
   "metadata": {},
   "outputs": [],
   "source": [
    "svd = TruncatedSVD(200)\n",
    "normalizer = Normalizer(copy=False)\n",
    "lsa = make_pipeline(svd, normalizer)\n",
    "X = lsa.fit_transform(bagofwords)"
   ]
  },
  {
   "cell_type": "code",
   "execution_count": 7,
   "metadata": {},
   "outputs": [],
   "source": [
    "from sklearn.model_selection import train_test_split\n",
    "X_train, X_test, y_train, y_test = train_test_split(X, y, test_size=0.2)"
   ]
  },
  {
   "cell_type": "code",
   "execution_count": 8,
   "metadata": {},
   "outputs": [],
   "source": [
    "from sklearn.ensemble import RandomForestClassifier\n",
    "from sklearn.ensemble import GradientBoostingClassifier\n",
    "from sklearn.metrics import accuracy_score"
   ]
  },
  {
   "cell_type": "code",
   "execution_count": null,
   "metadata": {},
   "outputs": [
    {
     "name": "stdout",
     "output_type": "stream",
     "text": [
      "train....... (num trees = 200 in Random-Forest)\n",
      "done.\n",
      "train....... (num trees = 500 in Random-Forest)\n"
     ]
    }
   ],
   "source": [
    "results = {}\n",
    "for clf_type in [\"Random-Forest\", \"Gradient-Boosting\"]:\n",
    "\n",
    "    acc_results = []  # accuracy\n",
    "    if clf_type is \"Random-Forest\":\n",
    "        n_estimators = [200, 500]\n",
    "    elif clf_type is \"Gradient-Boosting\":                                      \n",
    "        n_estimators = [50, 100]\n",
    "    \n",
    "    for n_estimator in n_estimators:\n",
    "        print(\"train....... (num trees = {:d} in {:s})\".format(n_estimator, clf_type))\n",
    "        if clf_type is \"Random-Forest\":\n",
    "            clf = RandomForestClassifier(n_estimators=n_estimator)\n",
    "        elif clf_type is \"Gradient-Boosting\":\n",
    "            clf = GradientBoostingClassifier(n_estimators=n_estimator, max_depth=2)\n",
    "\n",
    "        clf.fit(X_train, y_train)\n",
    "        y_pred = clf.predict(X_test)\n",
    "        acc_results.append(100 * accuracy_score(y_test, y_pred))\n",
    "        print(\"done.\")\n",
    "    results[clf_type] = (n_estimators, acc_results)"
   ]
  },
  {
   "cell_type": "code",
   "execution_count": null,
   "metadata": {},
   "outputs": [],
   "source": []
  }
 ],
 "metadata": {
  "kernelspec": {
   "display_name": "Python 3",
   "language": "python",
   "name": "python3"
  },
  "language_info": {
   "codemirror_mode": {
    "name": "ipython",
    "version": 3
   },
   "file_extension": ".py",
   "mimetype": "text/x-python",
   "name": "python",
   "nbconvert_exporter": "python",
   "pygments_lexer": "ipython3",
   "version": "3.6.5"
  }
 },
 "nbformat": 4,
 "nbformat_minor": 2
}
