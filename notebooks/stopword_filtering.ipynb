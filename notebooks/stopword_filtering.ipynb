{
 "cells": [
  {
   "cell_type": "code",
   "execution_count": 18,
   "metadata": {
    "collapsed": true
   },
   "outputs": [],
   "source": [
    "from pyspark.sql import SparkSession\n",
    "from pyspark.ml.feature import Tokenizer, StopWordsRemover\n",
    "import pandas"
   ]
  },
  {
   "cell_type": "code",
   "execution_count": 19,
   "metadata": {
    "collapsed": true
   },
   "outputs": [],
   "source": [
    "# create your spark app and session\n",
    "spark = SparkSession.builder.appName('stopwords').getOrCreate()"
   ]
  },
  {
   "cell_type": "code",
   "execution_count": 20,
   "metadata": {},
   "outputs": [
    {
     "name": "stdout",
     "output_type": "stream",
     "text": [
      "+---+------------+--------------------+-----------+\n",
      "|_c0|     country|         description|    variety|\n",
      "+---+------------+--------------------+-----------+\n",
      "|  0|       Italy|Aromas include tr...|White Blend|\n",
      "|  1|       Italy|Delicate aromas r...|White Blend|\n",
      "|  2|       Italy|Pretty aromas of ...|White Blend|\n",
      "|  3|       Italy|Part of the exten...|White Blend|\n",
      "|  4|       Italy|Made predominantl...|White Blend|\n",
      "|  5|       Italy|Made with Verment...|White Blend|\n",
      "|  6|      France|Attractive mid-go...|White Blend|\n",
      "|  7|       Italy|Made with 60% Pin...|White Blend|\n",
      "|  8|South Africa|A stony, flinty c...|White Blend|\n",
      "|  9|       Italy|This vineyard-des...|White Blend|\n",
      "| 10|       Italy|This sophisticate...|White Blend|\n",
      "| 11|       Italy|This is a gorgeou...|White Blend|\n",
      "| 12|      Greece|This fuller-bodie...|White Blend|\n",
      "| 13|          US|This New World bl...|White Blend|\n",
      "| 14|       Italy|A fresh, crisp st...|White Blend|\n",
      "| 15|      Greece|A fresh, tangy, v...|White Blend|\n",
      "| 16|       Italy|This blend of Cha...|White Blend|\n",
      "| 17|       Italy|It's testament to...|White Blend|\n",
      "| 18|       Italy|A blend of grapes...|White Blend|\n",
      "| 19|       Italy|This is the first...|White Blend|\n",
      "+---+------------+--------------------+-----------+\n",
      "only showing top 20 rows\n",
      "\n"
     ]
    }
   ],
   "source": [
    "# Import csv into a dataframe\n",
    "dataframe = spark.read.format(\"csv\").option(\"header\", \"true\").load(\"short.csv\")\n",
    "dataframe.show()"
   ]
  },
  {
   "cell_type": "code",
   "execution_count": 21,
   "metadata": {
    "collapsed": true
   },
   "outputs": [],
   "source": [
    "# Tokenize dataframe\n",
    "review_data = Tokenizer(inputCol=\"description\", outputCol=\"Words\")"
   ]
  },
  {
   "cell_type": "code",
   "execution_count": 22,
   "metadata": {},
   "outputs": [
    {
     "name": "stdout",
     "output_type": "stream",
     "text": [
      "+---+------------+--------------------+-----------+--------------------+\n",
      "|_c0|     country|         description|    variety|               Words|\n",
      "+---+------------+--------------------+-----------+--------------------+\n",
      "|  0|       Italy|Aromas include tr...|White Blend|[aromas, include,...|\n",
      "|  1|       Italy|Delicate aromas r...|White Blend|[delicate, aromas...|\n",
      "|  2|       Italy|Pretty aromas of ...|White Blend|[pretty, aromas, ...|\n",
      "|  3|       Italy|Part of the exten...|White Blend|[part, of, the, e...|\n",
      "|  4|       Italy|Made predominantl...|White Blend|[made, predominan...|\n",
      "|  5|       Italy|Made with Verment...|White Blend|[made, with, verm...|\n",
      "|  6|      France|Attractive mid-go...|White Blend|[attractive, mid-...|\n",
      "|  7|       Italy|Made with 60% Pin...|White Blend|[made, with, 60%,...|\n",
      "|  8|South Africa|A stony, flinty c...|White Blend|[a, stony,, flint...|\n",
      "|  9|       Italy|This vineyard-des...|White Blend|[this, vineyard-d...|\n",
      "| 10|       Italy|This sophisticate...|White Blend|[this, sophistica...|\n",
      "| 11|       Italy|This is a gorgeou...|White Blend|[this, is, a, gor...|\n",
      "| 12|      Greece|This fuller-bodie...|White Blend|[this, fuller-bod...|\n",
      "| 13|          US|This New World bl...|White Blend|[this, new, world...|\n",
      "| 14|       Italy|A fresh, crisp st...|White Blend|[a, fresh,, crisp...|\n",
      "| 15|      Greece|A fresh, tangy, v...|White Blend|[a, fresh,, tangy...|\n",
      "| 16|       Italy|This blend of Cha...|White Blend|[this, blend, of,...|\n",
      "| 17|       Italy|It's testament to...|White Blend|[it's, testament,...|\n",
      "| 18|       Italy|A blend of grapes...|White Blend|[a, blend, of, gr...|\n",
      "| 19|       Italy|This is the first...|White Blend|[this, is, the, f...|\n",
      "+---+------------+--------------------+-----------+--------------------+\n",
      "only showing top 20 rows\n",
      "\n"
     ]
    }
   ],
   "source": [
    "# Transform dataframe\n",
    "reviewed = review_data.transform(dataframe)\n",
    "reviewed.show()"
   ]
  },
  {
   "cell_type": "code",
   "execution_count": 23,
   "metadata": {
    "collapsed": true
   },
   "outputs": [],
   "source": [
    "# Remove stop words\n",
    "remover = StopWordsRemover(inputCol=\"Words\", outputCol=\"filtered\")"
   ]
  },
  {
   "cell_type": "code",
   "execution_count": 35,
   "metadata": {},
   "outputs": [
    {
     "name": "stdout",
     "output_type": "stream",
     "text": [
      "+---+------------+--------------------+-----------+--------------------+--------------------+\n",
      "|_c0|     country|         description|    variety|               Words|            filtered|\n",
      "+---+------------+--------------------+-----------+--------------------+--------------------+\n",
      "|  0|       Italy|Aromas include tr...|White Blend|[aromas, include,...|[aromas, include,...|\n",
      "|  1|       Italy|Delicate aromas r...|White Blend|[delicate, aromas...|[delicate, aromas...|\n",
      "|  2|       Italy|Pretty aromas of ...|White Blend|[pretty, aromas, ...|[pretty, aromas, ...|\n",
      "|  3|       Italy|Part of the exten...|White Blend|[part, of, the, e...|[part, extended, ...|\n",
      "|  4|       Italy|Made predominantl...|White Blend|[made, predominan...|[made, predominan...|\n",
      "|  5|       Italy|Made with Verment...|White Blend|[made, with, verm...|[made, vermentino...|\n",
      "|  6|      France|Attractive mid-go...|White Blend|[attractive, mid-...|[attractive, mid-...|\n",
      "|  7|       Italy|Made with 60% Pin...|White Blend|[made, with, 60%,...|[made, 60%, pinot...|\n",
      "|  8|South Africa|A stony, flinty c...|White Blend|[a, stony,, flint...|[stony,, flinty, ...|\n",
      "|  9|       Italy|This vineyard-des...|White Blend|[this, vineyard-d...|[vineyard-designa...|\n",
      "| 10|       Italy|This sophisticate...|White Blend|[this, sophistica...|[sophisticated, w...|\n",
      "| 11|       Italy|This is a gorgeou...|White Blend|[this, is, a, gor...|[gorgeous, italia...|\n",
      "| 12|      Greece|This fuller-bodie...|White Blend|[this, fuller-bod...|[fuller-bodied, w...|\n",
      "| 13|          US|This New World bl...|White Blend|[this, new, world...|[new, world, blen...|\n",
      "| 14|       Italy|A fresh, crisp st...|White Blend|[a, fresh,, crisp...|[fresh,, crisp, s...|\n",
      "| 15|      Greece|A fresh, tangy, v...|White Blend|[a, fresh,, tangy...|[fresh,, tangy,, ...|\n",
      "| 16|       Italy|This blend of Cha...|White Blend|[this, blend, of,...|[blend, chardonna...|\n",
      "| 17|       Italy|It's testament to...|White Blend|[it's, testament,...|[testament, wine'...|\n",
      "| 18|       Italy|A blend of grapes...|White Blend|[a, blend, of, gr...|[blend, grapes,, ...|\n",
      "| 19|       Italy|This is the first...|White Blend|[this, is, the, f...|[first, vintage, ...|\n",
      "+---+------------+--------------------+-----------+--------------------+--------------------+\n",
      "only showing top 20 rows\n",
      "\n"
     ]
    }
   ],
   "source": [
    "# Transform new dataframe\n",
    "newFrame = remover.transform(reviewed)\n",
    "newFrame.show()"
   ]
  },
  {
   "cell_type": "code",
   "execution_count": 29,
   "metadata": {},
   "outputs": [
    {
     "data": {
      "text/plain": [
       "_c0            103324\n",
       "country        103285\n",
       "description    103324\n",
       "variety        103320\n",
       "Words          103324\n",
       "filtered       103324\n",
       "dtype: int64"
      ]
     },
     "execution_count": 29,
     "metadata": {},
     "output_type": "execute_result"
    }
   ],
   "source": [
    "# Save as a Pandas Dataframe\n",
    "pandas_df = newFrame.toPandas()\n",
    "pandas_df.count()"
   ]
  },
  {
   "cell_type": "code",
   "execution_count": 15,
   "metadata": {
    "collapsed": true
   },
   "outputs": [],
   "source": [
    "# Save as a csv\n",
    "pandas_df.to_csv(\"stopword_filtered.csv\")"
   ]
  },
  {
   "cell_type": "code",
   "execution_count": 36,
   "metadata": {
    "collapsed": true
   },
   "outputs": [],
   "source": [
    "# Stop Spark\n",
    "spark.stop()"
   ]
  },
  {
   "cell_type": "code",
   "execution_count": null,
   "metadata": {
    "collapsed": true
   },
   "outputs": [],
   "source": []
  }
 ],
 "metadata": {
  "kernelspec": {
   "display_name": "Python 3",
   "language": "python",
   "name": "python3"
  },
  "language_info": {
   "codemirror_mode": {
    "name": "ipython",
    "version": 3
   },
   "file_extension": ".py",
   "mimetype": "text/x-python",
   "name": "python",
   "nbconvert_exporter": "python",
   "pygments_lexer": "ipython3",
   "version": "3.6.5"
  }
 },
 "nbformat": 4,
 "nbformat_minor": 2
}
